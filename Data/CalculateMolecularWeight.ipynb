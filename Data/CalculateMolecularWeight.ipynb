{
 "cells": [
  {
   "cell_type": "code",
   "execution_count": 1,
   "id": "0845a00a-e0a5-4da9-8262-b58ec33fa719",
   "metadata": {},
   "outputs": [
    {
     "name": "stdin",
     "output_type": "stream",
     "text": [
      "Enter your amino acid sequence:  RKYIKYVWN\n"
     ]
    },
    {
     "name": "stdout",
     "output_type": "stream",
     "text": [
      "The molecular weight of the sequence is: 1251.4967000000001 Da\n"
     ]
    }
   ],
   "source": [
    "# 定义氨基酸分子量字典\n",
    "amino_acid_weights = {\n",
    "    'A': 71.0788,\n",
    "    'R': 156.1875,\n",
    "    'N': 114.1038,\n",
    "    'D': 115.0886,\n",
    "    'C': 103.1388,\n",
    "    'E': 129.1155,\n",
    "    'Q': 128.1307,\n",
    "    'G': 57.0519,\n",
    "    'H': 137.1411,\n",
    "    'I': 113.1594,\n",
    "    'L': 113.1594,\n",
    "    'K': 128.1741,\n",
    "    'M': 131.1926,\n",
    "    'F': 147.1766,\n",
    "    'P': 97.1167,\n",
    "    'S': 87.0782,\n",
    "    'T': 101.1051,\n",
    "    'W': 186.2132,\n",
    "    'Y': 163.1760,\n",
    "    'V': 99.1326\n",
    "}\n",
    "\n",
    "# 函数：计算单个序列的分子量\n",
    "def calculate_molecular_weight(sequence, weights):\n",
    "    return sum(weights.get(aa, 0) for aa in sequence)\n",
    "\n",
    "# 输入氨基酸序列\n",
    "sequence = input(\"Enter your amino acid sequence: \")\n",
    "\n",
    "# 计算并打印分子量\n",
    "molecular_weight = calculate_molecular_weight(sequence, amino_acid_weights)\n",
    "print(f\"The molecular weight of the sequence is: {molecular_weight} Da\")\n"
   ]
  },
  {
   "cell_type": "code",
   "execution_count": null,
   "id": "1de17b68-347e-4513-91e9-5ab4b98f5d41",
   "metadata": {},
   "outputs": [],
   "source": []
  }
 ],
 "metadata": {
  "kernelspec": {
   "display_name": "Python 3 (ipykernel)",
   "language": "python",
   "name": "python3"
  },
  "language_info": {
   "codemirror_mode": {
    "name": "ipython",
    "version": 3
   },
   "file_extension": ".py",
   "mimetype": "text/x-python",
   "name": "python",
   "nbconvert_exporter": "python",
   "pygments_lexer": "ipython3",
   "version": "3.8.10"
  }
 },
 "nbformat": 4,
 "nbformat_minor": 5
}
